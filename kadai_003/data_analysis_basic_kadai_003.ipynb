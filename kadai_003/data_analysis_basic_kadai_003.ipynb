{
  "nbformat": 4,
  "nbformat_minor": 0,
  "metadata": {
    "colab": {
      "provenance": []
    },
    "kernelspec": {
      "name": "python3",
      "display_name": "Python 3"
    },
    "language_info": {
      "name": "python"
    }
  },
  "cells": [
    {
      "cell_type": "markdown",
      "source": [
        "Step1.\n",
        "NumPyをインポートするコードを記述する\n",
        "\n",
        "Step2.\n",
        "AとBの行列を格納する多次元配列のコードを記述する\n",
        "\n",
        "Step3.\n",
        "行列の積の計算をするコードを記述する\n",
        "\n",
        "Step4.\n",
        "Step3.の計算結果を表示するコードを記述する\n",
        "\n",
        "Step5.\n",
        "行列の要素の最大値を求めるコードを記述する"
      ],
      "metadata": {
        "id": "YjT_ABnZnTmm"
      }
    },
    {
      "cell_type": "code",
      "execution_count": 15,
      "metadata": {
        "colab": {
          "base_uri": "https://localhost:8080/"
        },
        "id": "y8F4SmCSnOkB",
        "outputId": "a292e620-df42-49ac-f8f0-8828bf57b355"
      },
      "outputs": [
        {
          "output_type": "stream",
          "name": "stdout",
          "text": [
            "[[ 4  5  6  7]\n",
            " [12 17 22 27]\n",
            " [20 29 38 47]]\n",
            "47\n"
          ]
        }
      ],
      "source": [
        "#Step1. NumPyをインポートするコードを記述する\n",
        "import numpy as np\n",
        "\n",
        "#Step2. AとBの行列を格納する多次元配列のコードを記述する\n",
        "A = np.array([[0, 1], [2, 3], [4, 5]])\n",
        "B = np.array([[0, 1, 2, 3], [4, 5, 6, 7]])\n",
        "\n",
        "#Step3. 行列の積の計算をするコードを記述する\n",
        "AB_multi = np.dot(A, B)\n",
        "\n",
        "#Step4. Step3.の計算結果を表示するコードを記述する\n",
        "print(AB_multi)\n",
        "\n",
        "#Step5. 行列の要素の最大値を求めるコード＆最大値を表示するコードを記述する\n",
        "AB_max = AB.max()\n",
        "print(AB_max)"
      ]
    }
  ]
}